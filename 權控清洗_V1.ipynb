{
 "cells": [
  {
   "cell_type": "code",
   "execution_count": null,
   "id": "9cc2b694-3321-413d-bdbe-32d8198c267e",
   "metadata": {},
   "outputs": [],
   "source": [
    "import pandas as pd\n",
    "import string\n",
    "import nltk\n",
    "from nltk.corpus import stopwords\n",
    "encoding= 'utf-8-sig'\n",
    "\n",
    "nltk.download('stopwords')\n",
    "stopwords = stopwords.words('english')\n",
    "#stopwords = nltk.corpus.stopwords.words('english')\n",
    "\n",
    "#加入新的停用詞\n",
    "new_stopwords = [\"Inc\", \"Co\", \"Ltd\", \"LLC\",\"L.C.C\",\"Llc\", \"Limited\",\"Corporation\",\"Corp\",\"GmbH\"]\n",
    "stopwords.extend(new_stopwords)\n",
    "\n",
    "database = pd.read_excel(\"./database.xlsx\",sheet_name=\"工作表1\")"
   ]
  },
  {
   "cell_type": "markdown",
   "id": "df287dd3-f63c-499a-9f87-ca97e2c8b366",
   "metadata": {},
   "source": [
    "## 清洗資料庫"
   ]
  },
  {
   "cell_type": "code",
   "execution_count": null,
   "id": "222e31a5-7c19-4b6c-8152-72031d77b251",
   "metadata": {},
   "outputs": [],
   "source": [
    "database[\"Assignee_Name_N\"]=database[\"Assignee_Name\"].str.title() #第一個字大小\n",
    "database[\"Assignee_Name_N\"]=database[\"Assignee_Name_N\"].str.replace('[^A-Za-z0-9]+',' ',regex=True) #去標點符號\n",
    "database[\"Assignee_Name_N\"] = database[\"Assignee_Name_N\"].apply(lambda words:' '.join(word.title() for word in words.split() if word not in stopwords)) #去停用詞\n",
    "database[\"AC_N\"]=database[\"AC\"].str.title() #第一個字大小\n",
    "database[\"AC_N\"]=database[\"AC_N\"].str.replace('[^A-Za-z0-9]+',' ',regex=True) #去標點符號\n",
    "database[\"AC_N\"] = database[\"AC_N\"].apply(lambda words:' '.join(word.title() for word in words.split() if word not in stopwords)) #去停用詞"
   ]
  },
  {
   "cell_type": "code",
   "execution_count": null,
   "id": "1ac0b798-538e-47b5-a237-f9948e3e7649",
   "metadata": {},
   "outputs": [],
   "source": [
    "database = database[[\"Assignee_Name_N\",\"AC_N\",\"AC\"]]"
   ]
  },
  {
   "cell_type": "markdown",
   "id": "7d7e5e0c-dd24-46c9-827b-ddb9ddd02445",
   "metadata": {},
   "source": [
    "## 清洗判別資料 "
   ]
  },
  {
   "cell_type": "code",
   "execution_count": null,
   "id": "b2eb5c4f-af49-4cdf-bde7-54ecfbaa2d13",
   "metadata": {},
   "outputs": [],
   "source": [
    "df[\"Assignee_ORGNAME_N\"]=df[\"Assignee_ORGNAME\"].str.title() #第一個字大小\n",
    "df[\"Assignee_ORGNAME_N\"]=df[\"Assignee_ORGNAME_N\"].str.replace('[^A-Za-z0-9]+',' ',regex=True) #去標點符號\n",
    "df[\"Assignee_ORGNAME_N\"] = df[\"Assignee_ORGNAME_N\"].apply(lambda words:' '.join(word.title() for word in words.split() if word not in stopwords)) #去停用詞"
   ]
  },
  {
   "cell_type": "markdown",
   "id": "84d762ae-df5c-48f5-be52-84d8e90eedb4",
   "metadata": {},
   "source": [
    "## 字串對比"
   ]
  },
  {
   "cell_type": "code",
   "execution_count": null,
   "id": "17496c46-3688-4b63-8b77-acaea676da6f",
   "metadata": {},
   "outputs": [],
   "source": [
    "from difflib import SequenceMatcher\n",
    "import pandas as pd\n",
    "\n",
    "s=0\n",
    "f=0\n",
    "def similarity(a, b):\n",
    "    return SequenceMatcher(None, a, b).ratio()\n",
    "\n",
    "\n",
    "for i in range(0,len(df[\"Assignee_ORGNAME_N\"])):\n",
    "    label = df[\"Assignee_ORGNAME_N\"][i]\n",
    "\n",
    "    if len(database[database.Assignee_Name_N== label])>=1:\n",
    "        s+=1 \n",
    "        df['AC'][i] = database['AC'][database[database.Assignee_Name_N == label].index[0]]\n",
    "        \n",
    "    elif len(database[database.AC_N== label])>=1:\n",
    "        df['AC'][i] = database['AC'][database[database.AC_N == label].index[0]]  \n",
    "    elif label=='NULL':\n",
    "        s+=1\n",
    "        df['AC'][i]='NULL'\n",
    "    else:\n",
    "        for j in range(0,len(database[\"AC_N\"])):\n",
    "            similar = similarity(label,database[\"AC_N\"][j])\n",
    "            if similar >= 0.95:                \n",
    "                df['AC'][i] = database['AC'][database[database.AC_N == label].index[0]]\n",
    "            else:\n",
    "                new_df = pd.DataFrame({\n",
    "                \"AC\":[df[\"Assignee_ORGNAME\"][i]],\n",
    "                \"Assignee_Name_N\":[label],\n",
    "                \"AC_N\":[label]})\n",
    "                database.append(new_df)\n",
    "                #database.to_csv(\"updateDatabase.csv\",encoding=\"utf-8-sig\")\n",
    "\n",
    "#儲存檔案 比對資料 前後\n",
    "df.to_csv(\"result.csv\",encoding='utf-8-sig')\n",
    "        \n",
    "print(\"成功\",s,\"失敗\",f)"
   ]
  },
  {
   "cell_type": "code",
   "execution_count": null,
   "id": "c0aef5a0-5cbd-4e8d-9457-f2bc9ee3d3f9",
   "metadata": {},
   "outputs": [],
   "source": []
  }
 ],
 "metadata": {
  "kernelspec": {
   "display_name": "Python 3 (ipykernel)",
   "language": "python",
   "name": "python3"
  },
  "language_info": {
   "codemirror_mode": {
    "name": "ipython",
    "version": 3
   },
   "file_extension": ".py",
   "mimetype": "text/x-python",
   "name": "python",
   "nbconvert_exporter": "python",
   "pygments_lexer": "ipython3",
   "version": "3.9.7"
  }
 },
 "nbformat": 4,
 "nbformat_minor": 5
}
